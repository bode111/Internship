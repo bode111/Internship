{
 "cells": [
  {
   "cell_type": "markdown",
   "id": "3381d66b",
   "metadata": {},
   "source": [
    "Question 1 \n",
    "\n",
    "Question 1- Write a Python program to replace all occurrences of a space, comma, or dot with a colon.\n",
    "Sample Text- 'Python Exercises, PHP exercises.'\n",
    "Expected Output: Python:Exercises::PHP:exercises:\n"
   ]
  },
  {
   "cell_type": "code",
   "execution_count": 1,
   "id": "4d32b273",
   "metadata": {},
   "outputs": [
    {
     "name": "stdout",
     "output_type": "stream",
     "text": [
      "Python:Exercises:PHP:exercises:\n"
     ]
    }
   ],
   "source": [
    "import re\n",
    "\n",
    "# Sample text\n",
    "Example_text = 'Python Exercises, PHP exercises.'\n",
    "\n",
    "# Replace spaces, commas, and dots with colons\n",
    "result = re.sub(r'[ ,.]+', ':', Example_text)\n",
    "\n",
    "# Output the result\n",
    "print(result)\n"
   ]
  },
  {
   "cell_type": "markdown",
   "id": "09a9ef7d",
   "metadata": {},
   "source": [
    "Question 2-  Create a dataframe using the dictionary below and remove everything (commas (,), !, XXXX, ;, etc.) from the columns except words.\n",
    "Dictionary- {'SUMMARY' : ['hello, world!', 'XXXXX test', '123four, five:; six...']}\n",
    "Expected output-\n",
    "0      hello world\n",
    "1             test\n",
    "2    four five six\n"
   ]
  },
  {
   "cell_type": "code",
   "execution_count": 3,
   "id": "6dec9a7e",
   "metadata": {},
   "outputs": [
    {
     "name": "stdout",
     "output_type": "stream",
     "text": [
      "         SUMMARY\n",
      "0    hello world\n",
      "1     XXXXX test\n",
      "2  four five six\n"
     ]
    }
   ],
   "source": [
    "import pandas as pd\n",
    "import re\n",
    "\n",
    "# Create a dictionary\n",
    "dic = {'SUMMARY': ['hello, world!', 'XXXXX test', '123four, five:; six...']}\n",
    "\n",
    "# Create a DataFrame from the dictionary\n",
    "df = pd.DataFrame(dic)\n",
    "\n",
    "# Function to clean the text by removing everything except words\n",
    "def clean_text(text):\n",
    "    # Remove everything except words and spaces\n",
    "    return re.sub(r'[^a-zA-Z\\s]', '', text).strip()\n",
    "\n",
    "# Apply the clean_text function to the 'SUMMARY' column\n",
    "df['SUMMARY'] = df['SUMMARY'].apply(clean_text)\n",
    "\n",
    "# Display the cleaned DataFrame\n",
    "print(df)\n"
   ]
  },
  {
   "cell_type": "markdown",
   "id": "cf09e9e3",
   "metadata": {},
   "source": [
    "question 3 Create a function in python to find all words that are at least 4 characters long in a string. The use of the re.compile() method is mandatory"
   ]
  },
  {
   "cell_type": "code",
   "execution_count": 6,
   "id": "abc4001f",
   "metadata": {},
   "outputs": [
    {
     "name": "stdout",
     "output_type": "stream",
     "text": [
      "['name', 'Bode', 'live', 'student', 'University', 'Sussex', 'rounding', 'masters', 'degree']\n"
     ]
    }
   ],
   "source": [
    "import re\n",
    "\n",
    "def find_long_words(text):\n",
    "    # Compile a regular expression pattern to match words with 4 or more characters\n",
    "    pattern = re.compile(r'\\b\\w{4,}\\b')\n",
    "    \n",
    "    # Find all words in the text that match the pattern\n",
    "    long_words = pattern.findall(text)\n",
    "    \n",
    "    return long_words\n",
    "\n",
    "# Example usage\n",
    "sample_text = \"My name Bode i live in the UK and am a student of University of Sussex rounding up my masters degree.\"\n",
    "result = find_long_words(sample_text)\n",
    "print(result)\n"
   ]
  },
  {
   "cell_type": "markdown",
   "id": "54be82c3",
   "metadata": {},
   "source": [
    "Question 4- Create a function in python to find all three, four, and five character words in a string. The use of the re.compile() method is mandatory."
   ]
  },
  {
   "cell_type": "code",
   "execution_count": 7,
   "id": "91b55f8a",
   "metadata": {},
   "outputs": [
    {
     "name": "stdout",
     "output_type": "stream",
     "text": [
      "['name', 'Bode', 'live', 'the', 'and']\n"
     ]
    }
   ],
   "source": [
    "import re\n",
    "\n",
    "def find_specific_words(text):\n",
    "    # Compile a regular expression pattern to match words with 3, 4, or 5 characters\n",
    "    pattern = re.compile(r'\\b\\w{3,5}\\b')\n",
    "    \n",
    "    # Find all words in the text that match the pattern\n",
    "    specific_words = pattern.findall(text)\n",
    "    \n",
    "    return specific_words\n",
    "\n",
    "# Example usage\n",
    "sample_text = \"My name Bode i live in the UK and am a student of University of Sussex rounding up my masters degree.\"\n",
    "result = find_specific_words(sample_text)\n",
    "print(result)\n"
   ]
  },
  {
   "cell_type": "markdown",
   "id": "f4d38dfe",
   "metadata": {},
   "source": [
    "question 5 Create a function in Python to remove the parenthesis in a list of strings. The use of the re.compile() method is mandatory.\n",
    "Sample Text: [\"example (.com)\", \"hr@fliprobo (.com)\", \"github (.com)\", \"Hello (Data Science World)\", \"Data (Scientist)\"]\n",
    "Expected Output:\n",
    "\n",
    "example.com\n",
    "\n",
    "hr@fliprobo.com\n",
    "\n",
    "github.com\n",
    "\n",
    "Hello Data Science World\n",
    "\n",
    "Data Scientist\n"
   ]
  },
  {
   "cell_type": "code",
   "execution_count": 8,
   "id": "8b84eb28",
   "metadata": {},
   "outputs": [
    {
     "name": "stdout",
     "output_type": "stream",
     "text": [
      "example\n",
      "hr@fliprobo\n",
      "github\n",
      "Hello\n",
      "Data\n"
     ]
    }
   ],
   "source": [
    "import re\n",
    "\n",
    "def remove_parentheses(text_list):\n",
    "    # Compile a regular expression pattern to remove all parentheses and their contents\n",
    "    pattern = re.compile(r'\\s*\\([^)]*\\)')\n",
    "    \n",
    "    # Process each string in the list and remove the content within parentheses\n",
    "    cleaned_list = [pattern.sub('', text) for text in text_list]\n",
    "    \n",
    "    return cleaned_list\n",
    "\n",
    "# Example usage\n",
    "sample_texts = [\"example (.com)\", \"hr@fliprobo (.com)\", \"github (.com)\", \"Hello (Data Science World)\", \"Data (Scientist)\"]\n",
    "result = remove_parentheses(sample_texts)\n",
    "for line in result:\n",
    "    print(line)\n"
   ]
  },
  {
   "cell_type": "markdown",
   "id": "cbb4f9cd",
   "metadata": {},
   "source": [
    "Question 6- Write a python program to remove the parenthesis area from the text stored in the text file using Regular Expression"
   ]
  },
  {
   "cell_type": "code",
   "execution_count": 15,
   "id": "c6b613c4",
   "metadata": {},
   "outputs": [],
   "source": [
    "import re\n",
    "\n",
    "def create_sample_file():\n",
    "    # Sample text as a list of strings\n",
    "    sample_text = [\n",
    "        \"example (.com)\", \n",
    "        \"hr@fliprobo (.com)\", \n",
    "        \"github (.com)\", \n",
    "        \"Hello (Data Science World)\", \n",
    "        \"Data (Scientist)\"\n",
    "    ]\n",
    "    \n",
    "    # Writing sample text to a file (not necessary in Jupyter, but keeping for completeness)\n",
    "    with open('sample_text.txt', 'w') as file:\n",
    "        for line in sample_text:\n",
    "            file.write(line + '\\n')\n"
   ]
  },
  {
   "cell_type": "code",
   "execution_count": 16,
   "id": "e3af8635",
   "metadata": {},
   "outputs": [],
   "source": [
    "def remove_parentheses_and_print(input_file):\n",
    "    # Compile a regular expression pattern to remove all parentheses and their contents\n",
    "    pattern = re.compile(r'\\s*\\([^)]*\\)')\n",
    "    \n",
    "    try:\n",
    "        # Open the input text file and read lines\n",
    "        with open(input_file, 'r') as file:\n",
    "            lines = file.readlines()\n",
    "\n",
    "        # Remove content within parentheses from each line and print each line\n",
    "        for line in lines:\n",
    "            cleaned_line = pattern.sub('', line).strip()\n",
    "            print(cleaned_line)\n",
    "\n",
    "    except FileNotFoundError:\n",
    "        print(\"File not found. Please check the file path and try again.\")\n",
    "    except Exception as e:\n",
    "        print(f\"An error occurred: {e}\")\n"
   ]
  },
  {
   "cell_type": "code",
   "execution_count": 17,
   "id": "a4490b44",
   "metadata": {},
   "outputs": [
    {
     "name": "stdout",
     "output_type": "stream",
     "text": [
      "example\n",
      "hr@fliprobo\n",
      "github\n",
      "Hello\n",
      "Data\n"
     ]
    }
   ],
   "source": [
    "# Create sample text file\n",
    "create_sample_file()\n",
    "\n",
    "# Path to the input file\n",
    "input_file_path = 'sample_text.txt'\n",
    "\n",
    "# Process the file to remove parentheses and print the results\n",
    "remove_parentheses_and_print(input_file_path)\n"
   ]
  },
  {
   "cell_type": "markdown",
   "id": "cb358cf6",
   "metadata": {},
   "source": [
    "Question 7- Write a regular expression in Python to split a string into uppercase letters.\n",
    "Sample text: “ImportanceOfRegularExpressionsInPython”\n",
    "Expected Output: [‘Importance’, ‘Of’, ‘Regular’, ‘Expression’, ‘In’, ‘Python’]\n"
   ]
  },
  {
   "cell_type": "code",
   "execution_count": 19,
   "id": "9e2a2272",
   "metadata": {},
   "outputs": [
    {
     "name": "stdout",
     "output_type": "stream",
     "text": [
      "['Importance', 'Of', 'Regular', 'Expressions', 'In', 'Python']\n"
     ]
    }
   ],
   "source": [
    "import re\n",
    "\n",
    "def split_uppercase_letters(text):\n",
    "    # Regular expression to find sequences of an uppercase followed by lowercase letters\n",
    "    parts = re.findall(r'[A-Z][a-z]*', text)\n",
    "    return parts\n",
    "\n",
    "# Sample text\n",
    "sample_text = \"ImportanceOfRegularExpressionsInPython\"\n",
    "\n",
    "# Call the function and print the result\n",
    "result = split_uppercase_letters(sample_text)\n",
    "print(result)\n"
   ]
  },
  {
   "cell_type": "markdown",
   "id": "d7a099eb",
   "metadata": {},
   "source": [
    "Question 8- Create a function in python to insert spaces between words starting with numbers.\n",
    "Sample Text: “RegularExpression1IsAn2ImportantTopic3InPython\"\n",
    "Expected Output: RegularExpression 1IsAn 2ImportantTopic 3InPython\n"
   ]
  },
  {
   "cell_type": "code",
   "execution_count": 18,
   "id": "6f3b0bc9",
   "metadata": {},
   "outputs": [
    {
     "name": "stdout",
     "output_type": "stream",
     "text": [
      "RegularExpression 1IsAn 2ImportantTopic 3InPython\n"
     ]
    }
   ],
   "source": [
    "import re\n",
    "\n",
    "def insert_space_before_numbers(text):\n",
    "    # Use regex to find transitions from letters to numbers and insert a space\n",
    "    modified_text = re.sub(r'(\\D)(\\d)', r'\\1 \\2', text)\n",
    "    return modified_text\n",
    "\n",
    "# Sample text\n",
    "sample_text = \"RegularExpression1IsAn2ImportantTopic3InPython\"\n",
    "\n",
    "# Call the function and print the result\n",
    "result = insert_space_before_numbers(sample_text)\n",
    "print(result)\n"
   ]
  },
  {
   "cell_type": "markdown",
   "id": "eff3095b",
   "metadata": {},
   "source": [
    "Question 9- Create a function in python to insert spaces between words starting with capital letters or with numbers.\n",
    "Sample Text: “RegularExpression1IsAn2ImportantTopic3InPython\"\n",
    "Expected Output:  RegularExpression 1 IsAn 2 ImportantTopic 3 InPython\n"
   ]
  },
  {
   "cell_type": "code",
   "execution_count": 20,
   "id": "7ac0067e",
   "metadata": {},
   "outputs": [
    {
     "name": "stdout",
     "output_type": "stream",
     "text": [
      "Regular Expression 1Is An 2Important Topic 3In Python\n"
     ]
    }
   ],
   "source": [
    "import re\n",
    "\n",
    "def insert_spaces(text):\n",
    "    # Regex to insert spaces before capital letters that are preceded by lowercase letters or other capital letters, and before numbers\n",
    "    modified_text = re.sub(r'(?<=[a-z])(?=[A-Z])|(?<=[A-Z])(?=[A-Z][a-z])|(?<=[A-Za-z])(?=\\d)', ' ', text)\n",
    "    return modified_text\n",
    "\n",
    "# Sample text\n",
    "sample_text = \"RegularExpression1IsAn2ImportantTopic3InPython\"\n",
    "\n",
    "# Call the function and print the result\n",
    "result = insert_spaces(sample_text)\n",
    "print(result)\n"
   ]
  },
  {
   "cell_type": "code",
   "execution_count": null,
   "id": "0a3fd93c",
   "metadata": {},
   "outputs": [],
   "source": []
  },
  {
   "cell_type": "code",
   "execution_count": 22,
   "id": "91c96c72",
   "metadata": {},
   "outputs": [
    {
     "data": {
      "text/html": [
       "<div>\n",
       "<style scoped>\n",
       "    .dataframe tbody tr th:only-of-type {\n",
       "        vertical-align: middle;\n",
       "    }\n",
       "\n",
       "    .dataframe tbody tr th {\n",
       "        vertical-align: top;\n",
       "    }\n",
       "\n",
       "    .dataframe thead th {\n",
       "        text-align: right;\n",
       "    }\n",
       "</style>\n",
       "<table border=\"1\" class=\"dataframe\">\n",
       "  <thead>\n",
       "    <tr style=\"text-align: right;\">\n",
       "      <th></th>\n",
       "      <th>Country</th>\n",
       "      <th>Region</th>\n",
       "      <th>Happiness Rank</th>\n",
       "      <th>Happiness Score</th>\n",
       "      <th>Standard Error</th>\n",
       "      <th>Economy (GDP per Capita)</th>\n",
       "      <th>Family</th>\n",
       "      <th>Health (Life Expectancy)</th>\n",
       "      <th>Freedom</th>\n",
       "      <th>Trust (Government Corruption)</th>\n",
       "      <th>Generosity</th>\n",
       "      <th>Dystopia Residual</th>\n",
       "      <th>first_five_letters</th>\n",
       "    </tr>\n",
       "  </thead>\n",
       "  <tbody>\n",
       "    <tr>\n",
       "      <th>0</th>\n",
       "      <td>Switzerland</td>\n",
       "      <td>Western Europe</td>\n",
       "      <td>1</td>\n",
       "      <td>7.587</td>\n",
       "      <td>0.03411</td>\n",
       "      <td>1.39651</td>\n",
       "      <td>1.34951</td>\n",
       "      <td>0.94143</td>\n",
       "      <td>0.66557</td>\n",
       "      <td>0.41978</td>\n",
       "      <td>0.29678</td>\n",
       "      <td>2.51738</td>\n",
       "      <td>Switze</td>\n",
       "    </tr>\n",
       "    <tr>\n",
       "      <th>1</th>\n",
       "      <td>Iceland</td>\n",
       "      <td>Western Europe</td>\n",
       "      <td>2</td>\n",
       "      <td>7.561</td>\n",
       "      <td>0.04884</td>\n",
       "      <td>1.30232</td>\n",
       "      <td>1.40223</td>\n",
       "      <td>0.94784</td>\n",
       "      <td>0.62877</td>\n",
       "      <td>0.14145</td>\n",
       "      <td>0.43630</td>\n",
       "      <td>2.70201</td>\n",
       "      <td>Icelan</td>\n",
       "    </tr>\n",
       "    <tr>\n",
       "      <th>2</th>\n",
       "      <td>Denmark</td>\n",
       "      <td>Western Europe</td>\n",
       "      <td>3</td>\n",
       "      <td>7.527</td>\n",
       "      <td>0.03328</td>\n",
       "      <td>1.32548</td>\n",
       "      <td>1.36058</td>\n",
       "      <td>0.87464</td>\n",
       "      <td>0.64938</td>\n",
       "      <td>0.48357</td>\n",
       "      <td>0.34139</td>\n",
       "      <td>2.49204</td>\n",
       "      <td>Denmar</td>\n",
       "    </tr>\n",
       "    <tr>\n",
       "      <th>3</th>\n",
       "      <td>Norway</td>\n",
       "      <td>Western Europe</td>\n",
       "      <td>4</td>\n",
       "      <td>7.522</td>\n",
       "      <td>0.03880</td>\n",
       "      <td>1.45900</td>\n",
       "      <td>1.33095</td>\n",
       "      <td>0.88521</td>\n",
       "      <td>0.66973</td>\n",
       "      <td>0.36503</td>\n",
       "      <td>0.34699</td>\n",
       "      <td>2.46531</td>\n",
       "      <td>Norway</td>\n",
       "    </tr>\n",
       "    <tr>\n",
       "      <th>4</th>\n",
       "      <td>Canada</td>\n",
       "      <td>North America</td>\n",
       "      <td>5</td>\n",
       "      <td>7.427</td>\n",
       "      <td>0.03553</td>\n",
       "      <td>1.32629</td>\n",
       "      <td>1.32261</td>\n",
       "      <td>0.90563</td>\n",
       "      <td>0.63297</td>\n",
       "      <td>0.32957</td>\n",
       "      <td>0.45811</td>\n",
       "      <td>2.45176</td>\n",
       "      <td>Canada</td>\n",
       "    </tr>\n",
       "  </tbody>\n",
       "</table>\n",
       "</div>"
      ],
      "text/plain": [
       "       Country          Region  Happiness Rank  Happiness Score  \\\n",
       "0  Switzerland  Western Europe               1            7.587   \n",
       "1      Iceland  Western Europe               2            7.561   \n",
       "2      Denmark  Western Europe               3            7.527   \n",
       "3       Norway  Western Europe               4            7.522   \n",
       "4       Canada   North America               5            7.427   \n",
       "\n",
       "   Standard Error  Economy (GDP per Capita)   Family  \\\n",
       "0         0.03411                   1.39651  1.34951   \n",
       "1         0.04884                   1.30232  1.40223   \n",
       "2         0.03328                   1.32548  1.36058   \n",
       "3         0.03880                   1.45900  1.33095   \n",
       "4         0.03553                   1.32629  1.32261   \n",
       "\n",
       "   Health (Life Expectancy)  Freedom  Trust (Government Corruption)  \\\n",
       "0                   0.94143  0.66557                        0.41978   \n",
       "1                   0.94784  0.62877                        0.14145   \n",
       "2                   0.87464  0.64938                        0.48357   \n",
       "3                   0.88521  0.66973                        0.36503   \n",
       "4                   0.90563  0.63297                        0.32957   \n",
       "\n",
       "   Generosity  Dystopia Residual first_five_letters  \n",
       "0     0.29678            2.51738             Switze  \n",
       "1     0.43630            2.70201             Icelan  \n",
       "2     0.34139            2.49204             Denmar  \n",
       "3     0.34699            2.46531             Norway  \n",
       "4     0.45811            2.45176             Canada  "
      ]
     },
     "execution_count": 22,
     "metadata": {},
     "output_type": "execute_result"
    }
   ],
   "source": [
    "import pandas as pd\n",
    "\n",
    "# URL of the dataset\n",
    "url = 'https://raw.githubusercontent.com/dsrscientist/DSData/master/happiness_score_dataset.csv'\n",
    "\n",
    "# Read the dataset from the GitHub link into a DataFrame\n",
    "df = pd.read_csv(url)\n",
    "\n",
    "# Function to extract the first six letters of each country's name\n",
    "def extract_first_six(name):\n",
    "    return name[:6]\n",
    "\n",
    "# Apply the function to the 'Country' column and create a new column with the results\n",
    "df['first_five_letters'] = df['Country'].apply(extract_first_six)\n",
    "\n",
    "# Display the first few rows of the DataFrame to verify the new column\n",
    "df.head()\n"
   ]
  },
  {
   "cell_type": "markdown",
   "id": "e2c473ed",
   "metadata": {},
   "source": [
    "Question 11- Write a Python program to match a string that contains only upper and lowercase letters, numbers, and underscores."
   ]
  },
  {
   "cell_type": "code",
   "execution_count": 23,
   "id": "91d2d5bc",
   "metadata": {},
   "outputs": [
    {
     "name": "stdout",
     "output_type": "stream",
     "text": [
      "Valid string\n",
      "Invalid string\n"
     ]
    }
   ],
   "source": [
    "import re\n",
    "\n",
    "def validate_string(s):\n",
    "    # Regular expression pattern to match a string containing only specified characters\n",
    "    pattern = r'^[A-Za-z0-9_]+$'\n",
    "    \n",
    "    # Use re.match to check if the entire string matches the pattern\n",
    "    if re.match(pattern, s):\n",
    "        return \"Valid string\"\n",
    "    else:\n",
    "        return \"Invalid string\"\n",
    "\n",
    "# Example usage\n",
    "test_string = \"Valid_String123\"\n",
    "result = validate_string(test_string)\n",
    "print(result)\n",
    "\n",
    "test_string = \"Invalid-String!\"\n",
    "result = validate_string(test_string)\n",
    "print(result)\n"
   ]
  },
  {
   "cell_type": "markdown",
   "id": "eb7dabfb",
   "metadata": {},
   "source": [
    "Question 12- Write a Python program where a string will start with a specific number. "
   ]
  },
  {
   "cell_type": "code",
   "execution_count": 24,
   "id": "8cd4ebee",
   "metadata": {},
   "outputs": [
    {
     "name": "stdout",
     "output_type": "stream",
     "text": [
      "String starts with the specified number.\n",
      "String does not start with the specified number.\n"
     ]
    }
   ],
   "source": [
    "import re\n",
    "\n",
    "def starts_with_number(s, number):\n",
    "    # Build a regular expression pattern that matches strings starting with the specified number\n",
    "    pattern = r'^' + re.escape(str(number))\n",
    "    \n",
    "    # Use re.match to check if the string starts with the number\n",
    "    if re.match(pattern, s):\n",
    "        return \"String starts with the specified number.\"\n",
    "    else:\n",
    "        return \"String does not start with the specified number.\"\n",
    "\n",
    "# Example usage\n",
    "test_string = \"123StartsWithNumber\"\n",
    "starting_number = 123\n",
    "result = starts_with_number(test_string, starting_number)\n",
    "print(result)\n",
    "\n",
    "test_string = \"No123StartsWithNumber\"\n",
    "result = starts_with_number(test_string, starting_number)\n",
    "print(result)\n"
   ]
  },
  {
   "cell_type": "markdown",
   "id": "94ffa12d",
   "metadata": {},
   "source": [
    "Question 13- Write a Python program to remove leading zeros from an IP address"
   ]
  },
  {
   "cell_type": "code",
   "execution_count": 27,
   "id": "e1e892a0",
   "metadata": {},
   "outputs": [
    {
     "name": "stdout",
     "output_type": "stream",
     "text": [
      "Original IP: 192.168.001.002\n",
      "Cleaned IP: 192.168.1.2\n"
     ]
    }
   ],
   "source": [
    "import re\n",
    "\n",
    "def remove_leading_zeros(ip):\n",
    "    # Regular expression to match each octet of the IP address and remove leading zeros\n",
    "    new_ip = re.sub(r'\\b0+(\\d)', r'\\1', ip)\n",
    "    return new_ip\n",
    "\n",
    "# Example usage\n",
    "ip_address = \"192.168.001.002\"\n",
    "cleaned_ip = remove_leading_zeros(ip_address)\n",
    "print(\"Original IP:\", ip_address)\n",
    "print(\"Cleaned IP:\", cleaned_ip)\n"
   ]
  },
  {
   "cell_type": "markdown",
   "id": "a5fdcc02",
   "metadata": {},
   "source": [
    "Question 14- Write a regular expression in python to match a date string in the form of Month name followed by day number and year stored in a text file.\n",
    "Sample text :  ' On August 15th 1947 that India was declared independent from British colonialism, and the reins of control were handed over to the leaders of the Country’.\n",
    "Expected Output- August 15th 1947\n",
    "Note- Store given sample text in the text file and then extract the date string asked format.\n"
   ]
  },
  {
   "cell_type": "code",
   "execution_count": 30,
   "id": "493dacd8",
   "metadata": {},
   "outputs": [],
   "source": [
    "# Write the sample text to a text file\n",
    "def write_sample_text_to_file(filename, text):\n",
    "    with open(filename, 'w') as file:\n",
    "        file.write(text)\n",
    "\n",
    "sample_text = \"On August 15th 1947 that India was declared independent from British colonialism, and the reins of control were handed over to the leaders of the Country.\"\n",
    "\n",
    "# Specify the filename\n",
    "filename = 'sample_text.txt'\n",
    "write_sample_text_to_file(filename, sample_text)\n"
   ]
  },
  {
   "cell_type": "code",
   "execution_count": 31,
   "id": "a032a892",
   "metadata": {},
   "outputs": [
    {
     "name": "stdout",
     "output_type": "stream",
     "text": [
      "Extracted Date: August 15th 1947\n"
     ]
    }
   ],
   "source": [
    "import re\n",
    "\n",
    "# Function to read from the file and extract the date\n",
    "def extract_date_from_file(file_path):\n",
    "    # Regex to match the full month name followed by day with possible suffix and year\n",
    "    date_regex = re.compile(r'(January|February|March|April|May|June|July|August|September|October|November|December) \\d{1,2}(th|st|nd|rd)? \\d{4}')\n",
    "    \n",
    "    try:\n",
    "        with open(file_path, 'r') as file:\n",
    "            content = file.read()\n",
    "            # Search for the first match of the date pattern\n",
    "            match = date_regex.search(content)\n",
    "            if match:\n",
    "                return match.group(0)  # Returns the full match\n",
    "            else:\n",
    "                return \"No date found in the text.\"\n",
    "    except FileNotFoundError:\n",
    "        return \"File not found.\"\n",
    "\n",
    "# Example usage\n",
    "found_date = extract_date_from_file(filename)\n",
    "print(\"Extracted Date:\", found_date)\n"
   ]
  },
  {
   "cell_type": "markdown",
   "id": "748bfb0c",
   "metadata": {},
   "source": [
    "Question 15- Write a Python program to search some literals strings in a string. \n",
    "Sample text : 'The quick brown fox jumps over the lazy dog.'\n",
    "Searched words : 'fox', 'dog', 'horse'\n"
   ]
  },
  {
   "cell_type": "code",
   "execution_count": 32,
   "id": "6bee00ed",
   "metadata": {},
   "outputs": [
    {
     "name": "stdout",
     "output_type": "stream",
     "text": [
      "'fox': Found\n",
      "'dog': Found\n",
      "'horse': Not Found\n"
     ]
    }
   ],
   "source": [
    "def search_literals(sample_text, search_words):\n",
    "    results = {}\n",
    "    for word in search_words:\n",
    "        # Check if the word is in the sample text\n",
    "        results[word] = word in sample_text\n",
    "    return results\n",
    "\n",
    "# Sample text\n",
    "sample_text = 'The quick brown fox jumps over the lazy dog.'\n",
    "\n",
    "# Searched words\n",
    "searched_words = ['fox', 'dog', 'horse']\n",
    "\n",
    "# Call the function and print the results\n",
    "results = search_literals(sample_text, searched_words)\n",
    "for word, found in results.items():\n",
    "    print(f\"'{word}':\", \"Found\" if found else \"Not Found\")\n"
   ]
  },
  {
   "cell_type": "markdown",
   "id": "dcfd8d57",
   "metadata": {},
   "source": [
    "Question 16- Write a Python program to search a literals string in a string and also find the location within the original string where the pattern occurs\n",
    "Sample text : 'The quick brown fox jumps over the lazy dog.'\n",
    "Searched words : 'fox'\n"
   ]
  },
  {
   "cell_type": "code",
   "execution_count": 33,
   "id": "4118e041",
   "metadata": {},
   "outputs": [
    {
     "name": "stdout",
     "output_type": "stream",
     "text": [
      "'fox' found at position 16\n"
     ]
    }
   ],
   "source": [
    "def search_and_locate(text, search_word):\n",
    "    # Find the index of the first occurrence of the search_word in text\n",
    "    location = text.find(search_word)\n",
    "    \n",
    "    if location != -1:\n",
    "        return f\"'{search_word}' found at position {location}\"\n",
    "    else:\n",
    "        return f\"'{search_word}' not found in the text.\"\n",
    "\n",
    "# Sample text\n",
    "sample_text = 'The quick brown fox jumps over the lazy dog.'\n",
    "\n",
    "# Searched word\n",
    "searched_word = 'fox'\n",
    "\n",
    "# Call the function and print the result\n",
    "result = search_and_locate(sample_text, searched_word)\n",
    "print(result)\n"
   ]
  },
  {
   "cell_type": "markdown",
   "id": "cde8ebae",
   "metadata": {},
   "source": [
    "Question 17- Write a Python program to find the substrings within a string.\n",
    "Sample text : 'Python exercises, PHP exercises, C# exercises'\n",
    "Pattern : 'exercises'.\n"
   ]
  },
  {
   "cell_type": "code",
   "execution_count": 34,
   "id": "56d164bd",
   "metadata": {},
   "outputs": [
    {
     "name": "stdout",
     "output_type": "stream",
     "text": [
      "'exercises' found at position 7\n",
      "'exercises' found at position 22\n",
      "'exercises' found at position 36\n"
     ]
    }
   ],
   "source": [
    "import re\n",
    "\n",
    "def find_substrings(text, pattern):\n",
    "    # Use re.finditer to find all occurrences of the pattern\n",
    "    matches = re.finditer(pattern, text)\n",
    "    \n",
    "    # Store the positions and matched substrings\n",
    "    results = [(match.start(), match.group(0)) for match in matches]\n",
    "    \n",
    "    return results\n",
    "\n",
    "# Sample text\n",
    "sample_text = 'Python exercises, PHP exercises, C# exercises'\n",
    "\n",
    "# Pattern to find\n",
    "pattern = 'exercises'\n",
    "\n",
    "# Call the function and print the results\n",
    "results = find_substrings(sample_text, pattern)\n",
    "for position, found_text in results:\n",
    "    print(f\"'{found_text}' found at position {position}\")\n"
   ]
  },
  {
   "cell_type": "markdown",
   "id": "ee614135",
   "metadata": {},
   "source": [
    "Question 18- Write a Python program to find the occurrence and position of the substrings within a string."
   ]
  },
  {
   "cell_type": "code",
   "execution_count": 37,
   "id": "33f9666f",
   "metadata": {},
   "outputs": [
    {
     "name": "stdout",
     "output_type": "stream",
     "text": [
      "Total occurrences: 4\n",
      "'exercises' found at position 7\n",
      "'exercises' found at position 22\n",
      "'exercises' found at position 36\n",
      "'exercises' found at position 47\n"
     ]
    }
   ],
   "source": [
    "import re\n",
    "\n",
    "def find_and_count_substrings(text, pattern):\n",
    "    # Use re.finditer to find all occurrences of the pattern\n",
    "    matches = re.finditer(pattern, text)\n",
    "    \n",
    "    # Initialize a list to store results and a counter for occurrences\n",
    "    results = []\n",
    "    count = 0\n",
    "    \n",
    "    # Loop through matches to capture positions and count occurrences\n",
    "    for match in matches:\n",
    "        count += 1  # Increment the count for each match found\n",
    "        results.append((match.start(), match.group(0)))  # Append position and matched substring\n",
    "    \n",
    "    return count, results\n",
    "\n",
    "# Sample text\n",
    "sample_text = 'Python exercises, PHP exercises, C# exercises, exercises repeated'\n",
    "\n",
    "# Pattern to find\n",
    "pattern = 'exercises'\n",
    "\n",
    "# Call the function and print the results\n",
    "occurrences, found_positions = find_and_count_substrings(sample_text, pattern)\n",
    "print(f\"Total occurrences: {occurrences}\")\n",
    "for position, found_text in found_positions:\n",
    "    print(f\"'{found_text}' found at position {position}\")\n"
   ]
  },
  {
   "cell_type": "markdown",
   "id": "923d1f56",
   "metadata": {},
   "source": [
    "Question 19- Write a Python program to convert a date of yyyy-mm-dd format to dd-mm-yyyy format."
   ]
  },
  {
   "cell_type": "code",
   "execution_count": 38,
   "id": "d9bc3df7",
   "metadata": {},
   "outputs": [
    {
     "name": "stdout",
     "output_type": "stream",
     "text": [
      "Original date: 2023-08-24\n",
      "Converted date: 24-08-2023\n"
     ]
    }
   ],
   "source": [
    "def convert_date_format(date_str):\n",
    "    # Split the date string into components\n",
    "    year, month, day = date_str.split('-')\n",
    "    # Reformat to dd-mm-yyyy\n",
    "    new_date_str = f\"{day}-{month}-{year}\"\n",
    "    return new_date_str\n",
    "\n",
    "# Example usage\n",
    "original_date = \"2023-08-24\"\n",
    "converted_date = convert_date_format(original_date)\n",
    "print(\"Original date:\", original_date)\n",
    "print(\"Converted date:\", converted_date)\n"
   ]
  },
  {
   "cell_type": "markdown",
   "id": "ce376cd8",
   "metadata": {},
   "source": [
    "Question 20- Create a function in python to find all decimal numbers with a precision of 1 or 2 in a string. The use of the re.compile() method is mandatory.\n",
    "Sample Text: \"01.12 0132.123 2.31875 145.8 3.01 27.25 0.25\"\n",
    "Expected Output: ['01.12', '145.8', '3.01', '27.25', '0.25']\n"
   ]
  },
  {
   "cell_type": "code",
   "execution_count": 39,
   "id": "db1077b6",
   "metadata": {},
   "outputs": [
    {
     "name": "stdout",
     "output_type": "stream",
     "text": [
      "['01.12', '145.8', '3.01', '27.25', '0.25']\n"
     ]
    }
   ],
   "source": [
    "import re\n",
    "\n",
    "def find_decimal_numbers(text):\n",
    "    # Compile a regular expression pattern to match decimal numbers with 1 or 2 digits after the decimal\n",
    "    pattern = re.compile(r'\\b\\d+\\.\\d{1,2}\\b')\n",
    "    \n",
    "    # Use the pattern to find all occurrences in the text\n",
    "    matches = pattern.findall(text)\n",
    "    \n",
    "    return matches\n",
    "\n",
    "# Sample text\n",
    "sample_text = \"01.12 0132.123 2.31875 145.8 3.01 27.25 0.25\"\n",
    "\n",
    "# Call the function and print the results\n",
    "decimal_numbers = find_decimal_numbers(sample_text)\n",
    "print(decimal_numbers)\n"
   ]
  },
  {
   "cell_type": "markdown",
   "id": "53ea39b0",
   "metadata": {},
   "source": [
    "Question 21- Write a Python program to separate and print the numbers and their position of a given string."
   ]
  },
  {
   "cell_type": "code",
   "execution_count": 40,
   "id": "bfbcb8eb",
   "metadata": {},
   "outputs": [
    {
     "name": "stdout",
     "output_type": "stream",
     "text": [
      "Number: 3, Position: 4\n",
      "Number: 13, Position: 36\n",
      "Number: 2, Position: 52\n"
     ]
    }
   ],
   "source": [
    "import re\n",
    "\n",
    "def find_numbers_and_positions(text):\n",
    "    # Compile a regular expression pattern to match numbers\n",
    "    pattern = re.compile(r'\\d+')\n",
    "    \n",
    "    # Use re.finditer to find all numbers and their positions\n",
    "    matches = pattern.finditer(text)\n",
    "    \n",
    "    # Loop through the matches and print the number and its position\n",
    "    for match in matches:\n",
    "        number = match.group(0)\n",
    "        position = match.start()\n",
    "        print(f\"Number: {number}, Position: {position}\")\n",
    "\n",
    "# Example usage\n",
    "sample_text = \"The 3 quick brown foxes jumped over 13 lazy dogs on 2 occasions.\"\n",
    "\n",
    "# Call the function\n",
    "find_numbers_and_positions(sample_text)\n"
   ]
  },
  {
   "cell_type": "markdown",
   "id": "e5177996",
   "metadata": {},
   "source": [
    "Question 22- Write a regular expression in python program to extract maximum/largest numeric value from a string.\n",
    "Sample Text:  'My marks in each semester are: 947, 896, 926, 524, 734, 950, 642'\n",
    "Expected Output: 950\n"
   ]
  },
  {
   "cell_type": "code",
   "execution_count": 42,
   "id": "46029bfe",
   "metadata": {},
   "outputs": [
    {
     "name": "stdout",
     "output_type": "stream",
     "text": [
      "The maximum numeric value is: 950\n"
     ]
    }
   ],
   "source": [
    "import re\n",
    "\n",
    "def find_max_numeric_value(text):\n",
    "    # Compile a regular expression pattern to match all numeric values\n",
    "    pattern = re.compile(r'\\d+')\n",
    "    \n",
    "    # Find all numeric values in the string\n",
    "    numbers = pattern.findall(text)\n",
    "    \n",
    "    # Convert the list of strings to a list of integers\n",
    "    numbers = list(map(int, numbers))\n",
    "    \n",
    "    # Return the maximum value from the list\n",
    "    if numbers:\n",
    "        return max(numbers)\n",
    "    else:\n",
    "        return None  # In case no numbers are found\n",
    "\n",
    "# Sample text\n",
    "sample_text = 'My marks in each semester are: 947, 896, 926, 524, 734, 950, 642'\n",
    "\n",
    "# Call the function and print the result\n",
    "max_value = find_max_numeric_value(sample_text)\n",
    "print(\"The maximum numeric value is:\", max_value)\n"
   ]
  },
  {
   "cell_type": "markdown",
   "id": "1ede7e61",
   "metadata": {},
   "source": [
    "Question 23- Create a function in python to insert spaces between words starting with capital letters.\n",
    "Sample Text: “RegularExpressionIsAnImportantTopicInPython\"\n",
    "Expected Output: Regular Expression Is An Important Topic In Python\n"
   ]
  },
  {
   "cell_type": "code",
   "execution_count": 44,
   "id": "bf272a56",
   "metadata": {},
   "outputs": [
    {
     "name": "stdout",
     "output_type": "stream",
     "text": [
      "Regular Expression Is An Important Topic In Python\n"
     ]
    }
   ],
   "source": [
    "import re\n",
    "\n",
    "def insert_spaces(text):\n",
    "    # Use re.sub to find capital letters that are preceded by another capital letter or a lowercase letter\n",
    "    modified_text = re.sub(r'(?<!^)(?=[A-Z])', ' ', text)\n",
    "    return modified_text\n",
    "\n",
    "# Sample text\n",
    "sample_text = \"RegularExpressionIsAnImportantTopicInPython\"\n",
    "\n",
    "# Call the function and print the result\n",
    "result = insert_spaces(sample_text)\n",
    "print(result)\n"
   ]
  },
  {
   "cell_type": "markdown",
   "id": "da28249c",
   "metadata": {},
   "source": [
    "Question 24- Python regex to find sequences of one upper case letter followed by lower case letters\n",
    "\n"
   ]
  },
  {
   "cell_type": "code",
   "execution_count": 45,
   "id": "b193bbb6",
   "metadata": {},
   "outputs": [
    {
     "name": "stdout",
     "output_type": "stream",
     "text": [
      "['This', 'Example', 'Finding', 'Sequences', 'Hello', 'World', 'String']\n"
     ]
    }
   ],
   "source": [
    "import re\n",
    "\n",
    "def find_uppercase_followed_by_lowercase(text):\n",
    "    # Regular expression pattern to match one uppercase letter followed by one or more lowercase letters\n",
    "    pattern = re.compile(r'[A-Z][a-z]+')\n",
    "    \n",
    "    # Find all matches in the text\n",
    "    matches = pattern.findall(text)\n",
    "    \n",
    "    return matches\n",
    "\n",
    "# Example usage\n",
    "sample_text = \"This is an Example of Finding Sequences like Hello or World in a String.\"\n",
    "\n",
    "# Call the function and print the results\n",
    "result = find_uppercase_followed_by_lowercase(sample_text)\n",
    "print(result)\n"
   ]
  },
  {
   "cell_type": "markdown",
   "id": "45d9c08d",
   "metadata": {},
   "source": [
    "Question 25- Write a Python program to remove continuous duplicate words from Sentence using Regular Expression."
   ]
  },
  {
   "cell_type": "code",
   "execution_count": 47,
   "id": "452d138a",
   "metadata": {},
   "outputs": [
    {
     "name": "stdout",
     "output_type": "stream",
     "text": [
      "Hello world\n"
     ]
    }
   ],
   "source": [
    "import re\n",
    "\n",
    "def remove_duplicate_words(text):\n",
    "    # Regular expression pattern to find continuous duplicate words\n",
    "    pattern = re.compile(r'\\b(\\w+)\\s+\\1\\b', re.IGNORECASE)\n",
    "    \n",
    "    # Substitute the duplicate words with a single occurrence\n",
    "    result = re.sub(pattern, r'\\1', text)\n",
    "    \n",
    "    return result\n",
    "\n",
    "# Example usage\n",
    "sample_text = \"Hello hello world world\"\n",
    "\n",
    "# Call the function and print the result\n",
    "result = remove_duplicate_words(sample_text)\n",
    "print(result)\n"
   ]
  },
  {
   "cell_type": "markdown",
   "id": "076918c5",
   "metadata": {},
   "source": [
    "Question 26-  Write a python program using RegEx to accept string ending with alphanumeric character."
   ]
  },
  {
   "cell_type": "code",
   "execution_count": 48,
   "id": "28266b2c",
   "metadata": {},
   "outputs": [
    {
     "name": "stdout",
     "output_type": "stream",
     "text": [
      "True\n",
      "False\n"
     ]
    }
   ],
   "source": [
    "import re\n",
    "\n",
    "def is_valid_string(text):\n",
    "    # Regular expression pattern to check if the string ends with an alphanumeric character\n",
    "    pattern = re.compile(r'.*[a-zA-Z0-9]$')\n",
    "    \n",
    "    # Use re.match to see if the string matches the pattern\n",
    "    if pattern.match(text):\n",
    "        return True\n",
    "    else:\n",
    "        return False\n",
    "\n",
    "# Example usage\n",
    "sample_text = \"HelloWorld123\"\n",
    "print(is_valid_string(sample_text))  # Output: True\n",
    "\n",
    "sample_text = \"HelloWorld123!\"\n",
    "print(is_valid_string(sample_text))  # Output: False\n",
    "\n"
   ]
  },
  {
   "cell_type": "markdown",
   "id": "d4a93886",
   "metadata": {},
   "source": [
    "Question 27-Write a python program using RegEx to extract the hashtags.\n",
    "Sample Text:  \"\"\"RT @kapil_kausik: #Doltiwal I mean #xyzabc is \"hurt\" by #Demonetization as the same has rendered USELESS <ed><U+00A0><U+00BD><ed><U+00B1><U+0089> \"acquired funds\" No wo\"\"\"\n",
    "Expected Output: ['#Doltiwal', '#xyzabc', '#Demonetization']\n"
   ]
  },
  {
   "cell_type": "code",
   "execution_count": 49,
   "id": "7f3f886d",
   "metadata": {},
   "outputs": [
    {
     "name": "stdout",
     "output_type": "stream",
     "text": [
      "['#Doltiwal', '#xyzabc', '#Demonetization']\n"
     ]
    }
   ],
   "source": [
    "import re\n",
    "\n",
    "def extract_hashtags(text):\n",
    "    # Regular expression pattern to match hashtags\n",
    "    pattern = re.compile(r'#\\w+')\n",
    "    \n",
    "    # Use re.findall to extract all hashtags\n",
    "    hashtags = pattern.findall(text)\n",
    "    \n",
    "    return hashtags\n",
    "\n",
    "# Sample text\n",
    "sample_text = \"\"\"RT @kapil_kausik: #Doltiwal I mean #xyzabc is \"hurt\" by #Demonetization as the same has rendered USELESS <ed><U+00A0><U+00BD><ed><U+00B1><U+0089> \"acquired funds\" No wo\"\"\"\n",
    "\n",
    "# Call the function and print the result\n",
    "hashtags = extract_hashtags(sample_text)\n",
    "print(hashtags)\n"
   ]
  },
  {
   "cell_type": "markdown",
   "id": "3d03901f",
   "metadata": {},
   "source": [
    "Question 28- Write a python program using RegEx to remove <U+..> like symbols\n",
    "Check the below sample text, there are strange symbols something of the sort <U+..> all over the place. You need to come up with a general Regex expression that will cover all such symbols.\n",
    "Sample Text: \"@Jags123456 Bharat band on 28??<ed><U+00A0><U+00BD><ed><U+00B8><U+0082>Those who  are protesting #demonetization  are all different party leaders\"\n",
    "Expected Output: @Jags123456 Bharat band on 28??<ed><ed>Those who  are protesting #demonetization  are all different party leaders\n"
   ]
  },
  {
   "cell_type": "code",
   "execution_count": 50,
   "id": "173a9f56",
   "metadata": {},
   "outputs": [
    {
     "name": "stdout",
     "output_type": "stream",
     "text": [
      "@Jags123456 Bharat band on 28??<ed><ed>Those who are protesting #demonetization are all different party leaders\n"
     ]
    }
   ],
   "source": [
    "import re\n",
    "\n",
    "def remove_unicode_symbols(text):\n",
    "    # Regular expression pattern to match symbols like <U+..>\n",
    "    pattern = re.compile(r'<U\\+\\w{4}>')\n",
    "    \n",
    "    # Use re.sub to replace all occurrences of the pattern with an empty string\n",
    "    cleaned_text = re.sub(pattern, '', text)\n",
    "    \n",
    "    return cleaned_text\n",
    "\n",
    "# Sample text\n",
    "sample_text = \"@Jags123456 Bharat band on 28??<ed><U+00A0><U+00BD><ed><U+00B8><U+0082>Those who are protesting #demonetization are all different party leaders\"\n",
    "\n",
    "# Call the function and print the result\n",
    "cleaned_text = remove_unicode_symbols(sample_text)\n",
    "print(cleaned_text)\n"
   ]
  },
  {
   "cell_type": "markdown",
   "id": "04e2a66c",
   "metadata": {},
   "source": [
    "Question 29- Write a python program to extract dates from the text stored in the text file.\n",
    "Sample Text: Ron was born on 12-09-1992 and he was admitted to school 15-12-1999.\n",
    "Note- Store this sample text in the file and then extract dates.\n"
   ]
  },
  {
   "cell_type": "code",
   "execution_count": 51,
   "id": "0e75ed1a",
   "metadata": {},
   "outputs": [],
   "source": [
    "# Write the sample text to a text file\n",
    "sample_text = \"Ron was born on 12-09-1992 and he was admitted to school 15-12-1999.\"\n",
    "\n",
    "with open(\"sample_text.txt\", \"w\") as file:\n",
    "    file.write(sample_text)\n"
   ]
  },
  {
   "cell_type": "code",
   "execution_count": 52,
   "id": "85d743d9",
   "metadata": {},
   "outputs": [
    {
     "name": "stdout",
     "output_type": "stream",
     "text": [
      "['12-09-1992', '15-12-1999']\n"
     ]
    }
   ],
   "source": [
    "import re\n",
    "\n",
    "def extract_dates_from_file(file_path):\n",
    "    # Regular expression pattern to match dates in the format dd-mm-yyyy\n",
    "    pattern = re.compile(r'\\b\\d{2}-\\d{2}-\\d{4}\\b')\n",
    "    \n",
    "    # Read the content of the file\n",
    "    with open(file_path, \"r\") as file:\n",
    "        content = file.read()\n",
    "    \n",
    "    # Find all dates in the text\n",
    "    dates = pattern.findall(content)\n",
    "    \n",
    "    return dates\n",
    "\n",
    "# Path to the text file\n",
    "file_path = \"sample_text.txt\"\n",
    "\n",
    "# Call the function and print the extracted dates\n",
    "extracted_dates = extract_dates_from_file(file_path)\n",
    "print(extracted_dates)\n"
   ]
  },
  {
   "cell_type": "markdown",
   "id": "78bb8bb7",
   "metadata": {},
   "source": [
    "Question 30- Create a function in python to remove all words from a string of length between 2 and 4.\n",
    "The use of the re.compile() method is mandatory.\n",
    "Sample Text: \"The following example creates an ArrayList with a capacity of 50 elements. 4 elements are then added to the ArrayList and the ArrayList is trimmed accordingly.\"\n",
    "Expected Output:  following example creates ArrayList a capacity elements. 4 elements added ArrayList ArrayList trimmed accordingly.\n",
    "\n",
    "\n"
   ]
  },
  {
   "cell_type": "code",
   "execution_count": 53,
   "id": "db8a5c71",
   "metadata": {},
   "outputs": [
    {
     "name": "stdout",
     "output_type": "stream",
     "text": [
      "following example creates ArrayList a capacity elements. 4 elements added ArrayList ArrayList trimmed accordingly.\n"
     ]
    }
   ],
   "source": [
    "import re\n",
    "\n",
    "def remove_short_words(text):\n",
    "    # Compile a regex pattern to match words with length between 2 and 4\n",
    "    pattern = re.compile(r'\\b\\w{2,4}\\b')\n",
    "    \n",
    "    # Substitute matched words with an empty string\n",
    "    result = pattern.sub('', text)\n",
    "    \n",
    "    # Clean up any extra spaces left from the removal\n",
    "    result = re.sub(r'\\s+', ' ', result).strip()\n",
    "    \n",
    "    return result\n",
    "\n",
    "# Sample text\n",
    "sample_text = \"The following example creates an ArrayList with a capacity of 50 elements. 4 elements are then added to the ArrayList and the ArrayList is trimmed accordingly.\"\n",
    "\n",
    "# Call the function and print the result\n",
    "result = remove_short_words(sample_text)\n",
    "print(result)\n"
   ]
  },
  {
   "cell_type": "code",
   "execution_count": null,
   "id": "aa023c47",
   "metadata": {},
   "outputs": [],
   "source": []
  }
 ],
 "metadata": {
  "kernelspec": {
   "display_name": "Python 3 (ipykernel)",
   "language": "python",
   "name": "python3"
  },
  "language_info": {
   "codemirror_mode": {
    "name": "ipython",
    "version": 3
   },
   "file_extension": ".py",
   "mimetype": "text/x-python",
   "name": "python",
   "nbconvert_exporter": "python",
   "pygments_lexer": "ipython3",
   "version": "3.11.5"
  }
 },
 "nbformat": 4,
 "nbformat_minor": 5
}
